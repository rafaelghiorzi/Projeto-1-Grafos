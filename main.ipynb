{
 "cells": [
  {
   "cell_type": "code",
   "execution_count": 1,
   "metadata": {},
   "outputs": [],
   "source": [
    "import networkx as nx\n",
    "import matplotlib.pyplot as plt\n",
    "import numpy as np\n",
    "import pandas as pd\n",
    "import seaborn as sns\n",
    "import os"
   ]
  },
  {
   "cell_type": "code",
   "execution_count": 2,
   "metadata": {},
   "outputs": [],
   "source": [
    "G = nx.DiGraph() # Grafo direcionado"
   ]
  },
  {
   "cell_type": "code",
   "execution_count": 3,
   "metadata": {},
   "outputs": [],
   "source": [
    "data = \"twitter\"\n",
    "\n",
    "for file in os.listdir(data):\n",
    "    if file.endswith(\".edges\"):\n",
    "        node_id = file.split(\".\")[0] # Node Id do nome do arquivo\n",
    "        file_path = os.path.join(data, file)\n",
    "\n",
    "        with open(file_path, \"r\") as f:\n",
    "            for line in f:\n",
    "                connection_node = line.strip()\n",
    "                if connection_node:\n",
    "                    G.add_edge(node_id, connection_node) # Adiciona a aresta ao grafo entre o nó e o nó de conexão"
   ]
  },
  {
   "cell_type": "code",
   "execution_count": 4,
   "metadata": {},
   "outputs": [
    {
     "name": "stdout",
     "output_type": "stream",
     "text": [
      "Grafo criado com 1668858 nós e 2286909 arestas.\n"
     ]
    }
   ],
   "source": [
    "print(f\"Grafo criado com {G.number_of_nodes()} nós e {G.number_of_edges()} arestas.\")"
   ]
  },
  {
   "cell_type": "code",
   "execution_count": 18,
   "metadata": {},
   "outputs": [],
   "source": [
    "node_features = {}\n",
    "node_circles = {}\n",
    "feature_names = {}"
   ]
  },
  {
   "cell_type": "code",
   "execution_count": 17,
   "metadata": {},
   "outputs": [],
   "source": [
    "## Processando as comunidades\n",
    "for file in os.listdir(data):\n",
    "    if file.endswith(\".circles\"):\n",
    "        node_id = file.split(\".\")[0]\n",
    "        file_path = os.path.join(data, file)\n",
    "\n",
    "        with open(file_path, \"r\") as f:\n",
    "            for line in f:\n",
    "                parts = line.strip().split()\n",
    "                if len(parts) > 1:\n",
    "                    circle = parts[0]\n",
    "                    members = parts[1:]\n",
    "                    for member in members:\n",
    "                        if member not in node_circles.keys():\n",
    "                            # Adiciona o nó à lista de círculos\n",
    "                            # e inicializa a lista de círculos\n",
    "                            node_circles[member] = []\n",
    "                        node_circles[member].append(circle)"
   ]
  },
  {
   "cell_type": "code",
   "execution_count": 8,
   "metadata": {},
   "outputs": [],
   "source": [
    "## Processando as características .feat\n",
    "for file in os.listdir(data):\n",
    "    if file.endswith(\".feat\"):\n",
    "        node_id = file.split(\".\")[0]\n",
    "        file_path = os.path.join(data, file)\n",
    "\n",
    "        with open(file_path, \"r\") as f:\n",
    "            for line in f:\n",
    "                parts = line.strip().split()\n",
    "                if len(parts) > 1:\n",
    "                    user = parts[0]\n",
    "                    features = list(map(int, parts[1:]))\n",
    "                    node_features[user] = features\n",
    "        \n",
    "    # Processar os arquivos .egofeat (adicionar características ao nó ego)\n",
    "    ego_file = os.path.join(data, f\"{node_id}.egofeat\")\n",
    "    if os.path.exists(ego_file):\n",
    "        with open(ego_file, \"r\") as f:\n",
    "            ego_features = list(map(int, f.readline().strip().split()))\n",
    "            node_features[node_id] = ego_features\n",
    "                "
   ]
  },
  {
   "cell_type": "code",
   "execution_count": 9,
   "metadata": {},
   "outputs": [],
   "source": [
    "# 4. Processar os nomes das características (.featnames)\n",
    "for file in os.listdir(data):\n",
    "    if file.endswith(\".featnames\"):\n",
    "        file_path = os.path.join(data, file)\n",
    "\n",
    "        with open(file_path, \"r\") as f:\n",
    "            for line in f:\n",
    "                index, name = line.strip().split(\" \", 1)\n",
    "                feature_names[int(index)] = name"
   ]
  },
  {
   "cell_type": "code",
   "execution_count": 10,
   "metadata": {},
   "outputs": [
    {
     "name": "stdout",
     "output_type": "stream",
     "text": []
    }
   ],
   "source": [
    "# 5. Adicionar atributos ao grafo\n",
    "print(\"Adicionando atributos aos nós...\")\n",
    "for node in G.nodes():\n",
    "    # Convertendo círculos e características para strings para compatibilidade com GEXF\n",
    "    G.nodes[node][\"circles\"] = \",\".join(node_circles.get(node, []))  # Adiciona as comunidades\n",
    "    G.nodes[node][\"features\"] = \",\".join(map(str, node_features.get(node, [])))  # Adiciona características\n",
    "\n",
    "print(f\"Grafo finalizado com {G.number_of_nodes()} nós e {G.number_of_edges()} arestas.\")"
   ]
  },
  {
   "cell_type": "code",
   "execution_count": 6,
   "metadata": {},
   "outputs": [
    {
     "name": "stdout",
     "output_type": "stream",
     "text": [
      "Grafo amostrado com 1507 nós e 1000 arestas.\n"
     ]
    }
   ],
   "source": [
    "import random\n",
    "\n",
    "def sample_graph_by_edges(G, num_edges=2000):\n",
    "    \"\"\"Seleciona um subconjunto aleatório de arestas e mantém os nós conectados a elas.\"\"\"\n",
    "    sampled_edges = random.sample(list(G.edges()), min(num_edges, len(G.edges())))\n",
    "    \n",
    "    # Criar um subgrafo apenas com as arestas escolhidas\n",
    "    G_sample = nx.Graph()\n",
    "    G_sample.add_edges_from(sampled_edges)\n",
    "\n",
    "    return G_sample\n",
    "\n",
    "# Defina quantas arestas deseja manter\n",
    "num_edges_to_keep = 1000\n",
    "G_sample = sample_graph_by_edges(G, num_edges=num_edges_to_keep)\n",
    "\n",
    "nx.write_gexf(G_sample, \"sampled_graph_edges.gexf\")\n",
    "print(f\"Grafo amostrado com {G_sample.number_of_nodes()} nós e {G_sample.number_of_edges()} arestas.\")\n"
   ]
  },
  {
   "cell_type": "code",
   "execution_count": 7,
   "metadata": {},
   "outputs": [],
   "source": [
    "# Detecção de comunidade com louvain ou girvan-newman\n",
    "grupos = nx.community.girvan_newman(G_sample)"
   ]
  },
  {
   "cell_type": "code",
   "execution_count": null,
   "metadata": {},
   "outputs": [],
   "source": [
    "# Modularity -> measures the strength of division of a network into modules\n",
    "modularity_df = pd.DataFrame(\n",
    "    [\n",
    "        [k + 1, nx.community.modularity(G, grupos[k])]\n",
    "        for k in range(len(grupos))\n",
    "    ],\n",
    "    columns=[\"k\", \"modularity\"],\n",
    ")\n",
    "\n",
    "\n",
    "# function to create node colour list\n",
    "def create_community_node_colors(graph, grupos):\n",
    "    number_of_colors = len(grupos)\n",
    "    colors = [\"#D4FCB1\", \"#CDC5FC\", \"#FFC2C4\", \"#F2D140\", \"#BCC6C8\"][:number_of_colors]\n",
    "    node_colors = []\n",
    "    for node in graph:\n",
    "        current_community_index = 0\n",
    "        for community in grupos:\n",
    "            if node in community:\n",
    "                node_colors.append(colors[current_community_index])\n",
    "                break\n",
    "            current_community_index += 1\n",
    "    return node_colors\n",
    "\n",
    "\n",
    "# function to plot graph with node colouring based on grupos\n",
    "def visualize_communities(graph, grupos, i):\n",
    "    node_colors = create_community_node_colors(graph, grupos)\n",
    "    modularity = round(nx.community.modularity(graph, grupos), 6)\n",
    "    title = f\"Community Visualization of {len(grupos)} grupos with modularity of {modularity}\"\n",
    "    pos = nx.spring_layout(graph, k=0.3, iterations=50, seed=2)\n",
    "    plt.subplot(3, 1, i)\n",
    "    plt.title(title)\n",
    "    nx.draw(\n",
    "        graph,\n",
    "        pos=pos,\n",
    "        node_size=1000,\n",
    "        node_color=node_colors,\n",
    "        with_labels=True,\n",
    "        font_size=20,\n",
    "        font_color=\"black\",\n",
    "    )\n",
    "\n",
    "\n",
    "fig, ax = plt.subplots(3, figsize=(15, 20))\n",
    "\n",
    "# Plot graph with colouring based on grupos\n",
    "visualize_communities(G, grupos[0], 1)\n",
    "visualize_communities(G, grupos[3], 2)\n",
    "\n",
    "# Plot change in modularity as the important edges are removed\n",
    "modularity_df.plot.bar(\n",
    "    x=\"k\",\n",
    "    ax=ax[2],\n",
    "    color=\"#F2D140\",\n",
    "    title=\"Modularity Trend for Girvan-Newman Community Detection\",\n",
    ")\n",
    "plt.show()"
   ]
  }
 ],
 "metadata": {
  "kernelspec": {
   "display_name": "unb",
   "language": "python",
   "name": "python3"
  },
  "language_info": {
   "codemirror_mode": {
    "name": "ipython",
    "version": 3
   },
   "file_extension": ".py",
   "mimetype": "text/x-python",
   "name": "python",
   "nbconvert_exporter": "python",
   "pygments_lexer": "ipython3",
   "version": "3.12.7"
  }
 },
 "nbformat": 4,
 "nbformat_minor": 2
}
