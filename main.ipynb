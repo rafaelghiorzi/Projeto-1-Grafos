{
 "cells": [
  {
   "cell_type": "code",
   "execution_count": 2,
   "metadata": {},
   "outputs": [],
   "source": [
    "import networkx as nx\n",
    "import matplotlib.pyplot as plt\n",
    "import numpy as np\n",
    "import pandas as pd\n",
    "import seaborn as sns\n",
    "import os"
   ]
  },
  {
   "cell_type": "code",
   "execution_count": 3,
   "metadata": {},
   "outputs": [],
   "source": [
    "G = nx.DiGraph() # Grafo direcionado"
   ]
  },
  {
   "cell_type": "code",
   "execution_count": 4,
   "metadata": {},
   "outputs": [],
   "source": [
    "data = \"twitter\"\n",
    "\n",
    "for file in os.listdir(data):\n",
    "    if file.endswith(\".edges\"):\n",
    "        node_id = file.split(\".\")[0] # Node Id do nome do arquivo\n",
    "        file_path = os.path.join(data, file)\n",
    "\n",
    "        with open(file_path, \"r\") as f:\n",
    "            for line in f:\n",
    "                connection_node = line.strip()\n",
    "                if connection_node:\n",
    "                    G.add_edge(node_id, connection_node) # Adiciona a aresta ao grafo entre o nó e o nó de conexão"
   ]
  },
  {
   "cell_type": "code",
   "execution_count": null,
   "metadata": {},
   "outputs": [
    {
     "name": "stdout",
     "output_type": "stream",
     "text": []
    }
   ],
   "source": [
    "print(f\"Grafo criado com {G.number_of_nodes()} nós e {G.number_of_edges()} arestas.\")"
   ]
  },
  {
   "cell_type": "code",
   "execution_count": 6,
   "metadata": {},
   "outputs": [],
   "source": [
    "from collections import defaultdict\n",
    "\n",
    "node_features = {}\n",
    "node_circles = defaultdict(list)\n",
    "feature_names = {}"
   ]
  },
  {
   "cell_type": "code",
   "execution_count": 7,
   "metadata": {},
   "outputs": [],
   "source": [
    "## Processando as comunidades\n",
    "for file in os.listdir(data):\n",
    "    if file.endswith(\".circles\"):\n",
    "        node_id = file.split(\".\")[0]\n",
    "        file_path = os.path.join(data, file)\n",
    "\n",
    "        with open(file_path, \"r\") as f:\n",
    "            for line in f:\n",
    "                parts = line.strip().split()\n",
    "                if len(parts) > 1:\n",
    "                    circle = parts[0]\n",
    "                    members = parts[1:]\n",
    "                    for member in members:\n",
    "                        node_circles[member].append(circle)"
   ]
  },
  {
   "cell_type": "code",
   "execution_count": 8,
   "metadata": {},
   "outputs": [],
   "source": [
    "## Processando as características .feat\n",
    "for file in os.listdir(data):\n",
    "    if file.endswith(\".feat\"):\n",
    "        node_id = file.split(\".\")[0]\n",
    "        file_path = os.path.join(data, file)\n",
    "\n",
    "        with open(file_path, \"r\") as f:\n",
    "            for line in f:\n",
    "                parts = line.strip().split()\n",
    "                if len(parts) > 1:\n",
    "                    user = parts[0]\n",
    "                    features = list(map(int, parts[1:]))\n",
    "                    node_features[user] = features\n",
    "        \n",
    "    # Processar os arquivos .egofeat (adicionar características ao nó ego)\n",
    "    ego_file = os.path.join(data, f\"{node_id}.egofeat\")\n",
    "    if os.path.exists(ego_file):\n",
    "        with open(ego_file, \"r\") as f:\n",
    "            ego_features = list(map(int, f.readline().strip().split()))\n",
    "            node_features[node_id] = ego_features\n",
    "                "
   ]
  },
  {
   "cell_type": "code",
   "execution_count": 9,
   "metadata": {},
   "outputs": [],
   "source": [
    "# 4. Processar os nomes das características (.featnames)\n",
    "for file in os.listdir(data):\n",
    "    if file.endswith(\".featnames\"):\n",
    "        file_path = os.path.join(data, file)\n",
    "\n",
    "        with open(file_path, \"r\") as f:\n",
    "            for line in f:\n",
    "                index, name = line.strip().split(\" \", 1)\n",
    "                feature_names[int(index)] = name"
   ]
  },
  {
   "cell_type": "code",
   "execution_count": 10,
   "metadata": {},
   "outputs": [
    {
     "name": "stdout",
     "output_type": "stream",
     "text": []
    }
   ],
   "source": [
    "# 5. Adicionar atributos ao grafo\n",
    "print(\"Adicionando atributos aos nós...\")\n",
    "for node in G.nodes():\n",
    "    # Convertendo círculos e características para strings para compatibilidade com GEXF\n",
    "    G.nodes[node][\"circles\"] = \",\".join(node_circles.get(node, []))  # Adiciona as comunidades\n",
    "    G.nodes[node][\"features\"] = \",\".join(map(str, node_features.get(node, [])))  # Adiciona características\n",
    "\n",
    "print(f\"Grafo finalizado com {G.number_of_nodes()} nós e {G.number_of_edges()} arestas.\")"
   ]
  },
  {
   "cell_type": "code",
   "execution_count": 28,
   "metadata": {},
   "outputs": [
    {
     "name": "stdout",
     "output_type": "stream",
     "text": []
    }
   ],
   "source": [
    "import random\n",
    "\n",
    "def sample_graph_by_edges(G, num_edges=2000):\n",
    "    \"\"\"Seleciona um subconjunto aleatório de arestas e mantém os nós conectados a elas.\"\"\"\n",
    "    sampled_edges = random.sample(list(G.edges()), min(num_edges, len(G.edges())))\n",
    "    \n",
    "    # Criar um subgrafo apenas com as arestas escolhidas\n",
    "    G_sample = nx.Graph()\n",
    "    G_sample.add_edges_from(sampled_edges)\n",
    "\n",
    "    return G_sample\n",
    "\n",
    "# Defina quantas arestas deseja manter\n",
    "num_edges_to_keep = 80000\n",
    "G_sample = sample_graph_by_edges(G, num_edges=num_edges_to_keep)\n",
    "\n",
    "nx.write_gexf(G_sample, \"sampled_graph_edges.gexf\")\n",
    "print(f\"Grafo amostrado com {G_sample.number_of_nodes()} nós e {G_sample.number_of_edges()} arestas.\")\n"
   ]
  }
 ],
 "metadata": {
  "kernelspec": {
   "display_name": "unb",
   "language": "python",
   "name": "python3"
  },
  "language_info": {
   "codemirror_mode": {
    "name": "ipython",
    "version": 3
   },
   "file_extension": ".py",
   "mimetype": "text/x-python",
   "name": "python",
   "nbconvert_exporter": "python",
   "pygments_lexer": "ipython3",
   "version": "3.12.7"
  }
 },
 "nbformat": 4,
 "nbformat_minor": 2
}
